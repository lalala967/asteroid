{
 "cells": [
  {
   "cell_type": "code",
   "execution_count": 1,
   "metadata": {},
   "outputs": [
    {
     "ename": "ModuleNotFoundError",
     "evalue": "No module named 'tflite_runtime'",
     "output_type": "error",
     "traceback": [
      "\u001b[1;31m---------------------------------------------------------------------------\u001b[0m",
      "\u001b[1;31mModuleNotFoundError\u001b[0m                       Traceback (most recent call last)",
      "Cell \u001b[1;32mIn[1], line 3\u001b[0m\n\u001b[0;32m      1\u001b[0m \u001b[38;5;28;01mimport\u001b[39;00m \u001b[38;5;21;01mcv2\u001b[39;00m\n\u001b[0;32m      2\u001b[0m \u001b[38;5;28;01mimport\u001b[39;00m \u001b[38;5;21;01mnumpy\u001b[39;00m \u001b[38;5;28;01mas\u001b[39;00m \u001b[38;5;21;01mnp\u001b[39;00m\n\u001b[1;32m----> 3\u001b[0m \u001b[38;5;28;01mimport\u001b[39;00m \u001b[38;5;21;01mtflite_runtime\u001b[39;00m\u001b[38;5;21;01m.\u001b[39;00m\u001b[38;5;21;01minterpreter\u001b[39;00m \u001b[38;5;28;01mas\u001b[39;00m \u001b[38;5;21;01mtflite\u001b[39;00m\n\u001b[0;32m      5\u001b[0m \u001b[38;5;66;03m# Load the TFLite model and allocate tensors\u001b[39;00m\n\u001b[0;32m      6\u001b[0m model_path \u001b[38;5;241m=\u001b[39m \u001b[38;5;124m'\u001b[39m\u001b[38;5;124mmodel.tflite\u001b[39m\u001b[38;5;124m'\u001b[39m  \u001b[38;5;66;03m# Your TFLite model path\u001b[39;00m\n",
      "\u001b[1;31mModuleNotFoundError\u001b[0m: No module named 'tflite_runtime'"
     ]
    }
   ],
   "source": [
    "import imageio.v3 as iio\n",
    "import numpy as np\n",
    "import matplotlib.pyplot as plt\n",
    "import tensorflow as tf\n",
    "from tflite_runtime.interpreter import Interpreter\n",
    "from PIL import Image\n",
    "\n",
    "# Load TFLite model and allocate tensors\n",
    "interpreter = tf.lite.Interpreter(model_path=\"your_model.tflite\")\n",
    "interpreter.allocate_tensors()\n",
    "\n",
    "# Get input and output details\n",
    "input_details = interpreter.get_input_details()\n",
    "output_details = interpreter.get_output_details()\n",
    "\n",
    "# Load labels from labels.txt\n",
    "with open('labels.txt', 'r') as f:\n",
    "    labels = [line.strip() for line in f.readlines()]\n",
    "\n",
    "def preprocess_frame(frame):\n",
    "    \"\"\"Preprocess the frame before passing it to the model\"\"\"\n",
    "    img = Image.fromarray(frame)\n",
    "    img = img.resize((input_details[0]['shape'][2], input_details[0]['shape'][1]))  # Resize according to model input\n",
    "    img = np.array(img).astype(np.float32) / 255.0  # Normalize\n",
    "    img = np.expand_dims(img, axis=0)  # Add batch dimension\n",
    "    return img\n",
    "\n",
    "def run_inference(frame):\n",
    "    \"\"\"Run inference on the frame and get predictions\"\"\"\n",
    "    interpreter.set_tensor(input_details[0]['index'], frame)\n",
    "    interpreter.invoke()\n",
    "\n",
    "    output_data = interpreter.get_tensor(output_details[0]['index'])\n",
    "    return output_data\n",
    "\n",
    "def display_frame(frame, results):\n",
    "    \"\"\"Display the frame with annotations\"\"\"\n",
    "    plt.imshow(frame)\n",
    "    plt.title(\"TFLite Object Detection\")\n",
    "\n",
    "    # Process results (this is an example; adjust based on your TFLite model output format)\n",
    "    for result in results:\n",
    "        class_id = int(result[0])  # Assuming class ID is at index 0\n",
    "        if class_id in [0, 2, 9]:  # Filter for person (0), car (2), traffic light (9)\n",
    "            label = labels[class_id]\n",
    "            plt.text(10, 10, f'Detected: {label}', color='red', fontsize=12)\n",
    "\n",
    "    plt.show()\n",
    "\n",
    "# Open video source (0 for webcam or provide path to video file)\n",
    "cap = iio.get_reader(\"<video0>\")  # Use \"<video0>\" for webcam\n",
    "\n",
    "for frame in cap:\n",
    "    # Preprocess frame for inference\n",
    "    preprocessed_frame = preprocess_frame(frame)\n",
    "\n",
    "    # Run inference\n",
    "    results = run_inference(preprocessed_frame)\n",
    "\n",
    "    # Display results\n",
    "    display_frame(frame, results)\n",
    "\n",
    "    # Break condition (e.g., you can add a way to exit the loop)\n",
    "    if False:  # Replace with a condition to break the loop\n",
    "        break\n"
   ]
  }
 ],
 "metadata": {
  "kernelspec": {
   "display_name": "Python 3",
   "language": "python",
   "name": "python3"
  },
  "language_info": {
   "codemirror_mode": {
    "name": "ipython",
    "version": 3
   },
   "file_extension": ".py",
   "mimetype": "text/x-python",
   "name": "python",
   "nbconvert_exporter": "python",
   "pygments_lexer": "ipython3",
   "version": "3.12.4"
  }
 },
 "nbformat": 4,
 "nbformat_minor": 2
}
